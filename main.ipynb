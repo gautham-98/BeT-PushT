{
  "cells": [
    {
      "cell_type": "markdown",
      "source": [
        "# **Clone the Repo from GitHub**"
      ],
      "metadata": {
        "id": "6cRQ3I2sklwE"
      }
    },
    {
      "cell_type": "code",
      "source": [
        "!git clone https://github.com/gautham-98/BeT-PushT.git\n",
        "!cd /content/BeT-PushT"
      ],
      "metadata": {
        "colab": {
          "base_uri": "https://localhost:8080/"
        },
        "id": "zkx9h8G6dDvG",
        "outputId": "c6e1fa64-fd47-4a64-d441-3742c31801ea"
      },
      "execution_count": 4,
      "outputs": [
        {
          "output_type": "stream",
          "name": "stdout",
          "text": [
            "fatal: destination path 'BeT-PushT' already exists and is not an empty directory.\n"
          ]
        }
      ]
    },
    {
      "cell_type": "markdown",
      "source": [
        "# **Install Requirements**\n"
      ],
      "metadata": {
        "id": "RmcJC3lLkwJ4"
      }
    },
    {
      "cell_type": "code",
      "execution_count": null,
      "metadata": {
        "collapsed": true,
        "id": "tnQp2GPKd7Na"
      },
      "outputs": [],
      "source": [
        "!pip install lerobot==0.3.3 lerobot['pusht'] scikit-learn==1.6.1 gym_pusht==0.1.5"
      ]
    },
    {
      "cell_type": "markdown",
      "source": [
        "# **Login to wandb for logging**"
      ],
      "metadata": {
        "id": "N4NF7gLFk_1T"
      }
    },
    {
      "cell_type": "code",
      "execution_count": null,
      "metadata": {
        "id": "wuhAGytRRb4_"
      },
      "outputs": [],
      "source": [
        "!wandb login"
      ]
    },
    {
      "cell_type": "markdown",
      "source": [
        "# **Run The Training script**\n",
        "The configurations for training can be controlled from /content/Bet-PushT/config.yaml. Checkpoints are saved in the checkpoint directory path specified in the config."
      ],
      "metadata": {
        "id": "-LimS8evlJ_d"
      }
    },
    {
      "cell_type": "code",
      "execution_count": null,
      "metadata": {
        "id": "SKfaHWYb-aye"
      },
      "outputs": [],
      "source": [
        "!python /content/BeT-PushT/train.py --config \"/content/BeT-PushT/config.yaml\""
      ]
    },
    {
      "cell_type": "markdown",
      "source": [
        "# **Run The Evaluation script**\n",
        "The configurations for evaluation can be controlled from /content/Bet-PushT/config.yaml. The checkpoint for the model must be specified in the config file. The videos are saved in the directory specified in the config file."
      ],
      "metadata": {
        "id": "zxDMCj40lPIC"
      }
    },
    {
      "cell_type": "code",
      "execution_count": null,
      "metadata": {
        "id": "nW1wkBtYJ97L"
      },
      "outputs": [],
      "source": [
        "!python /content/Bet-PushT/evaluate.py --config \"/content/BeT-PushT/config.yaml\""
      ]
    }
  ],
  "metadata": {
    "colab": {
      "provenance": []
    },
    "kernelspec": {
      "display_name": "Python 3",
      "name": "python3"
    },
    "language_info": {
      "name": "python"
    }
  },
  "nbformat": 4,
  "nbformat_minor": 0
}