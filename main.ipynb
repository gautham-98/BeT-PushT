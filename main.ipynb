{
  "cells": [
    {
      "cell_type": "markdown",
      "source": [
        "# **Clone the Repo from GitHub**"
      ],
      "metadata": {
        "id": "6cRQ3I2sklwE"
      }
    },
    {
      "cell_type": "code",
      "source": [
        "!git clone https://github.com/gautham-98/BeT-PushT.git\n",
        "!cd /content/BeT-PushT"
      ],
      "metadata": {
        "colab": {
          "base_uri": "https://localhost:8080/"
        },
        "id": "zkx9h8G6dDvG",
        "outputId": "89e8b4b3-3f4c-44a1-9391-17ec74a4eb54"
      },
      "execution_count": 1,
      "outputs": [
        {
          "output_type": "stream",
          "name": "stdout",
          "text": [
            "Cloning into 'BeT-PushT'...\n",
            "remote: Enumerating objects: 56, done.\u001b[K\n",
            "remote: Counting objects: 100% (56/56), done.\u001b[K\n",
            "remote: Compressing objects: 100% (46/46), done.\u001b[K\n",
            "remote: Total 56 (delta 15), reused 40 (delta 5), pack-reused 0 (from 0)\u001b[K\n",
            "Receiving objects: 100% (56/56), 2.23 MiB | 30.85 MiB/s, done.\n",
            "Resolving deltas: 100% (15/15), done.\n"
          ]
        }
      ]
    },
    {
      "cell_type": "markdown",
      "source": [
        "# **Install Requirements**\n"
      ],
      "metadata": {
        "id": "RmcJC3lLkwJ4"
      }
    },
    {
      "cell_type": "code",
      "execution_count": null,
      "metadata": {
        "collapsed": true,
        "id": "tnQp2GPKd7Na"
      },
      "outputs": [],
      "source": [
        "!pip install lerobot==0.3.3 lerobot['pusht'] scikit-learn==1.6.1 gym_pusht==0.1.5"
      ]
    },
    {
      "cell_type": "markdown",
      "source": [
        "# **Login to wandb for logging**"
      ],
      "metadata": {
        "id": "N4NF7gLFk_1T"
      }
    },
    {
      "cell_type": "code",
      "execution_count": null,
      "metadata": {
        "id": "wuhAGytRRb4_"
      },
      "outputs": [],
      "source": [
        "!wandb login"
      ]
    },
    {
      "cell_type": "markdown",
      "source": [
        "# **Run The Training script**\n",
        "The configurations for training can be controlled from /content/Bet-PushT/config.yaml. Checkpoints are saved in the checkpoint directory path specified in the config."
      ],
      "metadata": {
        "id": "-LimS8evlJ_d"
      }
    },
    {
      "cell_type": "code",
      "execution_count": null,
      "metadata": {
        "id": "SKfaHWYb-aye"
      },
      "outputs": [],
      "source": [
        "!python /content/BeT-PushT/train.py --config \"/content/BeT-PushT/config.yaml\""
      ]
    },
    {
      "cell_type": "markdown",
      "source": [
        "# **Run The Evaluation script**\n",
        "The configurations for evaluation can be controlled from /content/Bet-PushT/config.yaml. The checkpoint for the model must be specified in the config file. The videos are saved in the directory specified in the config file."
      ],
      "metadata": {
        "id": "zxDMCj40lPIC"
      }
    },
    {
      "cell_type": "code",
      "execution_count": null,
      "metadata": {
        "id": "nW1wkBtYJ97L"
      },
      "outputs": [],
      "source": [
        "!python /content/BeT-PushT/evaluate.py --config \"/content/BeT-PushT/config.yaml\""
      ]
    }
  ],
  "metadata": {
    "accelerator": "GPU",
    "colab": {
      "gpuType": "T4",
      "provenance": []
    },
    "kernelspec": {
      "display_name": "Python 3",
      "name": "python3"
    },
    "language_info": {
      "name": "python"
    }
  },
  "nbformat": 4,
  "nbformat_minor": 0
}